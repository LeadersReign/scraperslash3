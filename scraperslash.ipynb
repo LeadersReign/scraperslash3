{
  "nbformat": 4,
  "nbformat_minor": 0,
  "metadata": {
    "colab": {
      "provenance": [],
      "authorship_tag": "ABX9TyMuWGUMkvz5Ey+Iwjv+qOWK",
      "include_colab_link": true
    },
    "kernelspec": {
      "name": "python3",
      "display_name": "Python 3"
    },
    "language_info": {
      "name": "python"
    }
  },
  "cells": [
    {
      "cell_type": "markdown",
      "metadata": {
        "id": "view-in-github",
        "colab_type": "text"
      },
      "source": [
        "<a href=\"https://colab.research.google.com/github/LeadersReign/scraperslash3/blob/main/scraperslash.ipynb\" target=\"_parent\"><img src=\"https://colab.research.google.com/assets/colab-badge.svg\" alt=\"Open In Colab\"/></a>"
      ]
    },
    {
      "cell_type": "code",
      "source": [
        "import praw\n",
        "from rich import print as rprint\n",
        "from rich.console import Console\n",
        "from rich.tree import Tree\n",
        "from rich.layout import Layout\n",
        "from rich.progress import track\n",
        "from time import sleep\n",
        "from openpyxl import Workbook"
      ],
      "metadata": {
        "id": "bTF_tYzFdpaD"
      },
      "execution_count": null,
      "outputs": []
    },
    {
      "cell_type": "code",
      "source": [
        "#Create a console instance\n",
        "console = Console()\n",
        "layout = Layout()\n",
        "console.print(\"[bold Yellow]Reddit Bot[/bold Yellow] by [bold magenta]Damiclone👽[/bold magenta]\", style=\"bold red\")\n",
        "\n",
        "#Create a workbook instance\n",
        "wb = Workbook()\n",
        "sheet = wb.active\n",
        "sheet.append([\"NAME\", \"TITLE\", \"DESCRIPTION\", \"URL/LINK\", \"NO OF SUBSCRIBERS\", \"ACTIVE USERS\", \"DATE CREATED (UTC)\", \"NSFW\", \"ALLOWS IMAGE\", \"ALLOWS VIDEO\"])\n"
      ],
      "metadata": {
        "id": "TSnDopnFdq17"
      },
      "execution_count": null,
      "outputs": []
    },
    {
      "cell_type": "code",
      "source": [
        "#Get user input\n",
        "_client_id = str(input(\"Enter client id: \"))\n",
        "_client_secret = str(input(\"Enter client secret: \"))"
      ],
      "metadata": {
        "id": "Gue9Rd3Edq9N"
      },
      "execution_count": null,
      "outputs": []
    },
    {
      "cell_type": "code",
      "source": [
        "reddit = praw.Reddit(client_id=_client_id,\n",
        "                            client_secret=_client_secret,\n",
        "                            user_agent='Mozilla/5.0 (Windows NT 10.0; Win64; x64) AppleWebKit/537.36 (KHTML, like Gecko) Chrome/114.0.0.0 Safari/537.36')\n"
      ],
      "metadata": {
        "id": "Li25U6kFdq_y"
      },
      "execution_count": null,
      "outputs": []
    },
    {
      "cell_type": "code",
      "source": [
        "def main():\n",
        "    #Get user input\n",
        "    rprint(\"=====================================================\")\n",
        "    rprint(\"[bold Green]Welcome, What will you like to do ( 0 to quit )?[/bold Green] \\n 1. Analyse a subreddit \\n 2. Scrape Popular subreddits \\n 3. Search for subreddits by a phrase/word: \")\n",
        "\n",
        "    option = int(input(\"Enter option: \"))\n",
        "    if option == 1:\n",
        "        rprint(\"[bold Yellow]Enter Subreddit to analyse: [/bold Yellow]\")\n",
        "        option = str(input())\n",
        "        analyseSubreddit(option)\n",
        "    elif option == 2:\n",
        "        scrapePopularSubreddit()\n",
        "    elif option == 3:\n",
        "        searchSubredditsByName()\n",
        "    elif option == 0:\n",
        "        rprint(\"[bold red]Bye Bye,[/bold red] [bold magenta]Have a great Day Scrapper![/bold magenta]\")\n",
        "        quit()\n",
        "    else:\n",
        "        rprint(\"[bold red]Invalid option, Please try again with numbers![/bold red]\")\n",
        "        main()\n",
        "\n",
        "#Function to analyse a subreddit\n",
        "def analyseSubreddit(_option):\n",
        "    try:\n",
        "        subreddit = reddit.subreddit(_option)\n",
        "        print(\"=====================================================\")\n",
        "        rprint(\"** Subreddit Name: \", subreddit.display_name)\n",
        "        print(\"=====================================================\")\n",
        "        print(\"* Title: \", subreddit.title)\n",
        "        print(\"* Description: \", subreddit.public_description)\n",
        "        print(\"* URL: \", \"https://www.reddit.com\"+subreddit.url)\n",
        "        print(\"* Subscribers: \", subreddit.subscribers)\n",
        "        print(\"* Active Users: \", subreddit.active_user_count)\n",
        "        print(\"* Created: \", subreddit.created_utc)\n",
        "\n",
        "        # list comprehension to print out if NSFW or not\n",
        "        [print(\"* NSFW: Yes, it is NSFW\") if subreddit.over18 else print(\"* NSFW: No, it is not NSFW\")]\n",
        "        print(\"* Allow Images: \", subreddit.allow_images)\n",
        "        print(\"* Allow Videos: \", subreddit.allow_videos)\n",
        "\n",
        "        print(\"=====================================================\")\n",
        "        tree = Tree(\"** [bold red]Subreddit Rules[/bold red] **\")\n",
        "        for rule in subreddit.rules:\n",
        "            tree.add(str(rule))\n",
        "        rprint(tree)\n",
        "        rprint(\"[bold green]Done[/bold green]\")\n",
        "        print(\"=====================================================\")\n",
        "        keepFunctionAlive()\n",
        "    except:\n",
        "        rprint(\"[bold red]An error occurred, Please Check what you entered and try again![/bold red]\")\n",
        "        keepFunctionAlive()\n",
        "\n",
        "\n",
        "#function to scrape subreddits\n",
        "def scrapePopularSubreddit():\n",
        "    try:\n",
        "        for subreddit in track(reddit.subreddits.popular(), description=\"searching for popular subreddits...\"):\n",
        "            sheet.append([subreddit.display_name, subreddit.title, subreddit.public_description, \"https://reddit.com\"+subreddit.url, subreddit.subscribers, subreddit.active_user_count, subreddit.created_utc, subreddit.over18, subreddit.allow_images, subreddit.allow_videos])\n",
        "            sleep(0.1)\n",
        "        worksheetName = str(input(\"Enter name of worksheet to save subreddits to: \"))\n",
        "        wb.save(worksheetName+\".xlsx\")\n",
        "        rprint(\"=====================================================\")\n",
        "        rprint(\"[bold green]Done![/bold green] \\n[bold Yellow]Subreddits has been saved to \"+worksheetName+\".xlsx[/bold Yellow]\")\n",
        "        rprint(\"=====================================================\")\n",
        "        keepFunctionAlive()\n",
        "    except:\n",
        "        rprint(\"[bold red]Error occured, Please try again![/bold red]\")\n",
        "        keepFunctionAlive()\n",
        "\n",
        "\n",
        "#function to search subreddits by name\n",
        "def searchSubredditsByName():\n",
        "    print(\"=====================================================\")\n",
        "    try:\n",
        "        searchPhrase = str(input(\"Enter phrase/word to search: \"))\n",
        "        for subreddit in track(reddit.subreddits.search(searchPhrase), description=\"Searching for subreddits...\"):\n",
        "            sheet.append([subreddit.display_name, subreddit.title, subreddit.public_description, \"https://reddit.com\"+subreddit.url, subreddit.subscribers, subreddit.active_user_count, subreddit.created_utc, subreddit.over18, subreddit.allow_images, subreddit.allow_videos])\n",
        "        worksheetName = str(input(\"Enter name of worksheet to save the scrapped subreddits to: \"))\n",
        "        wb.save(worksheetName+\".xlsx\")\n",
        "        rprint(\"=====================================================\")\n",
        "        rprint(\"[bold green]Done![/bold green] \\n[bold Yellow]Scrapped Subreddits has been saved to \"+worksheetName+\".xlsx[/bold Yellow]\")\n",
        "        rprint(\"=====================================================\")\n",
        "        keepFunctionAlive()\n",
        "    except:\n",
        "        rprint(\"[bold red]Subreddit not found! Please try again![/bold red]\")\n",
        "        keepFunctionAlive()\n",
        "\n",
        "\n",
        "#function to keep the program running\n",
        "def keepFunctionAlive():\n",
        "    while True:\n",
        "        rprint(\"[bold Blue]What else will you like to do ( 0 to quit )[/bold Blue]? \\n 1. Analyse a subreddit \\n 2. Scrape Popular subreddits \\n 3. Search for subreddits by a phrase/word: \")\n",
        "        option = int(input(\"Enter option:\"))\n",
        "        if option == 1:\n",
        "            print(\"=====================================================\")\n",
        "            rprint(\"[bold Yellow]Enter Subreddit to analyse: [/bold Yellow]\")\n",
        "            phrase = str(input())\n",
        "            analyseSubreddit(phrase)\n",
        "        elif option == 2:\n",
        "            scrapePopularSubreddit()\n",
        "        elif option == 3:\n",
        "            searchSubredditsByName()\n",
        "        elif option == 0:\n",
        "            rprint(\"[bold blue]Bye Bye,[/bold blue] [bold magenta]Have a great Day Scrapper![/bold magenta]\")\n",
        "            quit()\n",
        "        else:\n",
        "            rprint(\"[bold red]Invalid option, Please try again with numbers![/bold red]\")\n",
        "\n",
        "if __name__ == '__main__':\n",
        "    main()"
      ],
      "metadata": {
        "id": "Nb1yljPfdrCY"
      },
      "execution_count": null,
      "outputs": []
    }
  ]
}